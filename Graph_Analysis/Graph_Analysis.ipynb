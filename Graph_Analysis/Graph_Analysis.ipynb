{
 "cells": [
  {
   "cell_type": "code",
   "execution_count": 1,
   "metadata": {},
   "outputs": [],
   "source": [
    "import pandas as pd\n",
    "import numpy as np\n",
    "import matplotlib.pyplot as plt"
   ]
  },
  {
   "cell_type": "code",
   "execution_count": null,
   "metadata": {},
   "outputs": [],
   "source": [
    "def load_and_prepare_data(filename, coin_name):\n",
    "    \n",
    "    df = pd.read_csv(filename)\n",
    "\n",
    "    df.rename(columns={\"time_period_end\": \"time\"}, inplace=True)\n",
    "\n",
    "    df[\"time\"] = pd.to_datetime(df[\"time\"])\n",
    "\n",
    "    df.sort_values(\"time\", inplace=True)\n",
    "\n",
    "    df[coin_name + \"_return\"] = df[\"price_close\"].pct_change()\n",
    "    \n",
    "    return df[[\"time\", coin_name + \"_return\"]]"
   ]
  },
  {
   "cell_type": "code",
   "execution_count": 5,
   "metadata": {},
   "outputs": [],
   "source": [
    "avax_df  = load_and_prepare_data(\"data/hourly_crypto_data/avax_hourly.csv\",  \"avax\")\n",
    "btc_df   = load_and_prepare_data(\"data/hourly_crypto_data/btc_hourly.csv\",   \"btc\")\n",
    "eth_df   = load_and_prepare_data(\"data/hourly_crypto_data/eth_hourly.csv\",   \"eth\")\n",
    "matic_df = load_and_prepare_data(\"data/hourly_crypto_data/matic_hourly.csv\", \"matic\")\n",
    "sol_df   = load_and_prepare_data(\"data/hourly_crypto_data/sol_hourly.csv\",   \"sol\")"
   ]
  },
  {
   "cell_type": "code",
   "execution_count": 6,
   "metadata": {},
   "outputs": [
    {
     "data": {
      "application/vnd.microsoft.datawrangler.viewer.v0+json": {
       "columns": [
        {
         "name": "index",
         "rawType": "int64",
         "type": "integer"
        },
        {
         "name": "time",
         "rawType": "datetime64[ns, UTC]",
         "type": "unknown"
        },
        {
         "name": "avax_return",
         "rawType": "float64",
         "type": "float"
        }
       ],
       "conversionMethod": "pd.DataFrame",
       "ref": "a083303c-63e9-42a2-ab8d-b9a0b75918df",
       "rows": [
        [
         "0",
         "2020-09-22 07:00:00+00:00",
         null
        ],
        [
         "1",
         "2020-09-22 08:00:00+00:00",
         "0.005838847800700764"
        ],
        [
         "2",
         "2020-09-22 09:00:00+00:00",
         "0.3895021997718755"
        ],
        [
         "3",
         "2020-09-22 10:00:00+00:00",
         "-0.08957914950380397"
        ],
        [
         "4",
         "2020-09-22 11:00:00+00:00",
         "-0.11603980163586014"
        ]
       ],
       "shape": {
        "columns": 2,
        "rows": 5
       }
      },
      "text/html": [
       "<div>\n",
       "<style scoped>\n",
       "    .dataframe tbody tr th:only-of-type {\n",
       "        vertical-align: middle;\n",
       "    }\n",
       "\n",
       "    .dataframe tbody tr th {\n",
       "        vertical-align: top;\n",
       "    }\n",
       "\n",
       "    .dataframe thead th {\n",
       "        text-align: right;\n",
       "    }\n",
       "</style>\n",
       "<table border=\"1\" class=\"dataframe\">\n",
       "  <thead>\n",
       "    <tr style=\"text-align: right;\">\n",
       "      <th></th>\n",
       "      <th>time</th>\n",
       "      <th>avax_return</th>\n",
       "    </tr>\n",
       "  </thead>\n",
       "  <tbody>\n",
       "    <tr>\n",
       "      <th>0</th>\n",
       "      <td>2020-09-22 07:00:00+00:00</td>\n",
       "      <td>NaN</td>\n",
       "    </tr>\n",
       "    <tr>\n",
       "      <th>1</th>\n",
       "      <td>2020-09-22 08:00:00+00:00</td>\n",
       "      <td>0.005839</td>\n",
       "    </tr>\n",
       "    <tr>\n",
       "      <th>2</th>\n",
       "      <td>2020-09-22 09:00:00+00:00</td>\n",
       "      <td>0.389502</td>\n",
       "    </tr>\n",
       "    <tr>\n",
       "      <th>3</th>\n",
       "      <td>2020-09-22 10:00:00+00:00</td>\n",
       "      <td>-0.089579</td>\n",
       "    </tr>\n",
       "    <tr>\n",
       "      <th>4</th>\n",
       "      <td>2020-09-22 11:00:00+00:00</td>\n",
       "      <td>-0.116040</td>\n",
       "    </tr>\n",
       "  </tbody>\n",
       "</table>\n",
       "</div>"
      ],
      "text/plain": [
       "                       time  avax_return\n",
       "0 2020-09-22 07:00:00+00:00          NaN\n",
       "1 2020-09-22 08:00:00+00:00     0.005839\n",
       "2 2020-09-22 09:00:00+00:00     0.389502\n",
       "3 2020-09-22 10:00:00+00:00    -0.089579\n",
       "4 2020-09-22 11:00:00+00:00    -0.116040"
      ]
     },
     "execution_count": 6,
     "metadata": {},
     "output_type": "execute_result"
    }
   ],
   "source": [
    "avax_df.head()"
   ]
  },
  {
   "cell_type": "code",
   "execution_count": 7,
   "metadata": {},
   "outputs": [
    {
     "data": {
      "application/vnd.microsoft.datawrangler.viewer.v0+json": {
       "columns": [
        {
         "name": "index",
         "rawType": "int64",
         "type": "integer"
        },
        {
         "name": "time",
         "rawType": "datetime64[ns, UTC]",
         "type": "unknown"
        },
        {
         "name": "btc_return",
         "rawType": "float64",
         "type": "float"
        }
       ],
       "conversionMethod": "pd.DataFrame",
       "ref": "ec16c62f-e0b1-4e67-9a32-6c9e6caa1fec",
       "rows": [
        [
         "0",
         "2019-02-25 01:00:00+00:00",
         null
        ],
        [
         "1",
         "2019-02-25 02:00:00+00:00",
         "0.0016183844232486866"
        ],
        [
         "2",
         "2019-02-25 03:00:00+00:00",
         "0.004873753133693537"
        ],
        [
         "3",
         "2019-02-25 04:00:00+00:00",
         "-0.00038421962625434514"
        ],
        [
         "4",
         "2019-02-25 05:00:00+00:00",
         "0.0024220405691794955"
        ]
       ],
       "shape": {
        "columns": 2,
        "rows": 5
       }
      },
      "text/html": [
       "<div>\n",
       "<style scoped>\n",
       "    .dataframe tbody tr th:only-of-type {\n",
       "        vertical-align: middle;\n",
       "    }\n",
       "\n",
       "    .dataframe tbody tr th {\n",
       "        vertical-align: top;\n",
       "    }\n",
       "\n",
       "    .dataframe thead th {\n",
       "        text-align: right;\n",
       "    }\n",
       "</style>\n",
       "<table border=\"1\" class=\"dataframe\">\n",
       "  <thead>\n",
       "    <tr style=\"text-align: right;\">\n",
       "      <th></th>\n",
       "      <th>time</th>\n",
       "      <th>btc_return</th>\n",
       "    </tr>\n",
       "  </thead>\n",
       "  <tbody>\n",
       "    <tr>\n",
       "      <th>0</th>\n",
       "      <td>2019-02-25 01:00:00+00:00</td>\n",
       "      <td>NaN</td>\n",
       "    </tr>\n",
       "    <tr>\n",
       "      <th>1</th>\n",
       "      <td>2019-02-25 02:00:00+00:00</td>\n",
       "      <td>0.001618</td>\n",
       "    </tr>\n",
       "    <tr>\n",
       "      <th>2</th>\n",
       "      <td>2019-02-25 03:00:00+00:00</td>\n",
       "      <td>0.004874</td>\n",
       "    </tr>\n",
       "    <tr>\n",
       "      <th>3</th>\n",
       "      <td>2019-02-25 04:00:00+00:00</td>\n",
       "      <td>-0.000384</td>\n",
       "    </tr>\n",
       "    <tr>\n",
       "      <th>4</th>\n",
       "      <td>2019-02-25 05:00:00+00:00</td>\n",
       "      <td>0.002422</td>\n",
       "    </tr>\n",
       "  </tbody>\n",
       "</table>\n",
       "</div>"
      ],
      "text/plain": [
       "                       time  btc_return\n",
       "0 2019-02-25 01:00:00+00:00         NaN\n",
       "1 2019-02-25 02:00:00+00:00    0.001618\n",
       "2 2019-02-25 03:00:00+00:00    0.004874\n",
       "3 2019-02-25 04:00:00+00:00   -0.000384\n",
       "4 2019-02-25 05:00:00+00:00    0.002422"
      ]
     },
     "execution_count": 7,
     "metadata": {},
     "output_type": "execute_result"
    }
   ],
   "source": [
    "btc_df.head()"
   ]
  },
  {
   "cell_type": "code",
   "execution_count": 8,
   "metadata": {},
   "outputs": [
    {
     "data": {
      "application/vnd.microsoft.datawrangler.viewer.v0+json": {
       "columns": [
        {
         "name": "index",
         "rawType": "int64",
         "type": "integer"
        },
        {
         "name": "time",
         "rawType": "datetime64[ns, UTC]",
         "type": "unknown"
        },
        {
         "name": "eth_return",
         "rawType": "float64",
         "type": "float"
        }
       ],
       "conversionMethod": "pd.DataFrame",
       "ref": "f864294b-27bc-4ce1-bee8-c5c788dc2801",
       "rows": [
        [
         "0",
         "2019-02-25 01:00:00+00:00",
         null
        ],
        [
         "1",
         "2019-02-25 02:00:00+00:00",
         "0.007097441963625606"
        ],
        [
         "2",
         "2019-02-25 03:00:00+00:00",
         "0.015196006460137967"
        ],
        [
         "3",
         "2019-02-25 04:00:00+00:00",
         "0.003615590425916526"
        ],
        [
         "4",
         "2019-02-25 05:00:00+00:00",
         "0.007349232653649507"
        ]
       ],
       "shape": {
        "columns": 2,
        "rows": 5
       }
      },
      "text/html": [
       "<div>\n",
       "<style scoped>\n",
       "    .dataframe tbody tr th:only-of-type {\n",
       "        vertical-align: middle;\n",
       "    }\n",
       "\n",
       "    .dataframe tbody tr th {\n",
       "        vertical-align: top;\n",
       "    }\n",
       "\n",
       "    .dataframe thead th {\n",
       "        text-align: right;\n",
       "    }\n",
       "</style>\n",
       "<table border=\"1\" class=\"dataframe\">\n",
       "  <thead>\n",
       "    <tr style=\"text-align: right;\">\n",
       "      <th></th>\n",
       "      <th>time</th>\n",
       "      <th>eth_return</th>\n",
       "    </tr>\n",
       "  </thead>\n",
       "  <tbody>\n",
       "    <tr>\n",
       "      <th>0</th>\n",
       "      <td>2019-02-25 01:00:00+00:00</td>\n",
       "      <td>NaN</td>\n",
       "    </tr>\n",
       "    <tr>\n",
       "      <th>1</th>\n",
       "      <td>2019-02-25 02:00:00+00:00</td>\n",
       "      <td>0.007097</td>\n",
       "    </tr>\n",
       "    <tr>\n",
       "      <th>2</th>\n",
       "      <td>2019-02-25 03:00:00+00:00</td>\n",
       "      <td>0.015196</td>\n",
       "    </tr>\n",
       "    <tr>\n",
       "      <th>3</th>\n",
       "      <td>2019-02-25 04:00:00+00:00</td>\n",
       "      <td>0.003616</td>\n",
       "    </tr>\n",
       "    <tr>\n",
       "      <th>4</th>\n",
       "      <td>2019-02-25 05:00:00+00:00</td>\n",
       "      <td>0.007349</td>\n",
       "    </tr>\n",
       "  </tbody>\n",
       "</table>\n",
       "</div>"
      ],
      "text/plain": [
       "                       time  eth_return\n",
       "0 2019-02-25 01:00:00+00:00         NaN\n",
       "1 2019-02-25 02:00:00+00:00    0.007097\n",
       "2 2019-02-25 03:00:00+00:00    0.015196\n",
       "3 2019-02-25 04:00:00+00:00    0.003616\n",
       "4 2019-02-25 05:00:00+00:00    0.007349"
      ]
     },
     "execution_count": 8,
     "metadata": {},
     "output_type": "execute_result"
    }
   ],
   "source": [
    "eth_df.head()"
   ]
  },
  {
   "cell_type": "code",
   "execution_count": 9,
   "metadata": {},
   "outputs": [
    {
     "data": {
      "application/vnd.microsoft.datawrangler.viewer.v0+json": {
       "columns": [
        {
         "name": "index",
         "rawType": "int64",
         "type": "integer"
        },
        {
         "name": "time",
         "rawType": "datetime64[ns, UTC]",
         "type": "unknown"
        },
        {
         "name": "matic_return",
         "rawType": "float64",
         "type": "float"
        }
       ],
       "conversionMethod": "pd.DataFrame",
       "ref": "d560ee3f-a0d7-4850-8828-7fc435465cab",
       "rows": [
        [
         "0",
         "2019-04-26 16:00:00+00:00",
         null
        ],
        [
         "1",
         "2019-04-26 17:00:00+00:00",
         "-0.080952380952381"
        ],
        [
         "2",
         "2019-04-26 18:00:00+00:00",
         "-0.08290155440414515"
        ],
        [
         "3",
         "2019-04-26 19:00:00+00:00",
         "-0.058380414312617646"
        ],
        [
         "4",
         "2019-04-26 20:00:00+00:00",
         "-0.009999999999999898"
        ]
       ],
       "shape": {
        "columns": 2,
        "rows": 5
       }
      },
      "text/html": [
       "<div>\n",
       "<style scoped>\n",
       "    .dataframe tbody tr th:only-of-type {\n",
       "        vertical-align: middle;\n",
       "    }\n",
       "\n",
       "    .dataframe tbody tr th {\n",
       "        vertical-align: top;\n",
       "    }\n",
       "\n",
       "    .dataframe thead th {\n",
       "        text-align: right;\n",
       "    }\n",
       "</style>\n",
       "<table border=\"1\" class=\"dataframe\">\n",
       "  <thead>\n",
       "    <tr style=\"text-align: right;\">\n",
       "      <th></th>\n",
       "      <th>time</th>\n",
       "      <th>matic_return</th>\n",
       "    </tr>\n",
       "  </thead>\n",
       "  <tbody>\n",
       "    <tr>\n",
       "      <th>0</th>\n",
       "      <td>2019-04-26 16:00:00+00:00</td>\n",
       "      <td>NaN</td>\n",
       "    </tr>\n",
       "    <tr>\n",
       "      <th>1</th>\n",
       "      <td>2019-04-26 17:00:00+00:00</td>\n",
       "      <td>-0.080952</td>\n",
       "    </tr>\n",
       "    <tr>\n",
       "      <th>2</th>\n",
       "      <td>2019-04-26 18:00:00+00:00</td>\n",
       "      <td>-0.082902</td>\n",
       "    </tr>\n",
       "    <tr>\n",
       "      <th>3</th>\n",
       "      <td>2019-04-26 19:00:00+00:00</td>\n",
       "      <td>-0.058380</td>\n",
       "    </tr>\n",
       "    <tr>\n",
       "      <th>4</th>\n",
       "      <td>2019-04-26 20:00:00+00:00</td>\n",
       "      <td>-0.010000</td>\n",
       "    </tr>\n",
       "  </tbody>\n",
       "</table>\n",
       "</div>"
      ],
      "text/plain": [
       "                       time  matic_return\n",
       "0 2019-04-26 16:00:00+00:00           NaN\n",
       "1 2019-04-26 17:00:00+00:00     -0.080952\n",
       "2 2019-04-26 18:00:00+00:00     -0.082902\n",
       "3 2019-04-26 19:00:00+00:00     -0.058380\n",
       "4 2019-04-26 20:00:00+00:00     -0.010000"
      ]
     },
     "execution_count": 9,
     "metadata": {},
     "output_type": "execute_result"
    }
   ],
   "source": [
    "matic_df.head()"
   ]
  },
  {
   "cell_type": "code",
   "execution_count": 10,
   "metadata": {},
   "outputs": [
    {
     "data": {
      "application/vnd.microsoft.datawrangler.viewer.v0+json": {
       "columns": [
        {
         "name": "index",
         "rawType": "int64",
         "type": "integer"
        },
        {
         "name": "time",
         "rawType": "datetime64[ns, UTC]",
         "type": "unknown"
        },
        {
         "name": "sol_return",
         "rawType": "float64",
         "type": "float"
        }
       ],
       "conversionMethod": "pd.DataFrame",
       "ref": "fd68ea1e-f91d-43bc-8af9-8afe901f493d",
       "rows": [
        [
         "0",
         "2020-08-11 07:00:00+00:00",
         null
        ],
        [
         "1",
         "2020-08-11 08:00:00+00:00",
         "-0.009859393528714122"
        ],
        [
         "2",
         "2020-08-11 09:00:00+00:00",
         "0.012866137421297497"
        ],
        [
         "3",
         "2020-08-11 10:00:00+00:00",
         "-0.03570945945945947"
        ],
        [
         "4",
         "2020-08-11 11:00:00+00:00",
         "0.015170094243772692"
        ]
       ],
       "shape": {
        "columns": 2,
        "rows": 5
       }
      },
      "text/html": [
       "<div>\n",
       "<style scoped>\n",
       "    .dataframe tbody tr th:only-of-type {\n",
       "        vertical-align: middle;\n",
       "    }\n",
       "\n",
       "    .dataframe tbody tr th {\n",
       "        vertical-align: top;\n",
       "    }\n",
       "\n",
       "    .dataframe thead th {\n",
       "        text-align: right;\n",
       "    }\n",
       "</style>\n",
       "<table border=\"1\" class=\"dataframe\">\n",
       "  <thead>\n",
       "    <tr style=\"text-align: right;\">\n",
       "      <th></th>\n",
       "      <th>time</th>\n",
       "      <th>sol_return</th>\n",
       "    </tr>\n",
       "  </thead>\n",
       "  <tbody>\n",
       "    <tr>\n",
       "      <th>0</th>\n",
       "      <td>2020-08-11 07:00:00+00:00</td>\n",
       "      <td>NaN</td>\n",
       "    </tr>\n",
       "    <tr>\n",
       "      <th>1</th>\n",
       "      <td>2020-08-11 08:00:00+00:00</td>\n",
       "      <td>-0.009859</td>\n",
       "    </tr>\n",
       "    <tr>\n",
       "      <th>2</th>\n",
       "      <td>2020-08-11 09:00:00+00:00</td>\n",
       "      <td>0.012866</td>\n",
       "    </tr>\n",
       "    <tr>\n",
       "      <th>3</th>\n",
       "      <td>2020-08-11 10:00:00+00:00</td>\n",
       "      <td>-0.035709</td>\n",
       "    </tr>\n",
       "    <tr>\n",
       "      <th>4</th>\n",
       "      <td>2020-08-11 11:00:00+00:00</td>\n",
       "      <td>0.015170</td>\n",
       "    </tr>\n",
       "  </tbody>\n",
       "</table>\n",
       "</div>"
      ],
      "text/plain": [
       "                       time  sol_return\n",
       "0 2020-08-11 07:00:00+00:00         NaN\n",
       "1 2020-08-11 08:00:00+00:00   -0.009859\n",
       "2 2020-08-11 09:00:00+00:00    0.012866\n",
       "3 2020-08-11 10:00:00+00:00   -0.035709\n",
       "4 2020-08-11 11:00:00+00:00    0.015170"
      ]
     },
     "execution_count": 10,
     "metadata": {},
     "output_type": "execute_result"
    }
   ],
   "source": [
    "sol_df.head()"
   ]
  }
 ],
 "metadata": {
  "kernelspec": {
   "display_name": "base",
   "language": "python",
   "name": "python3"
  },
  "language_info": {
   "codemirror_mode": {
    "name": "ipython",
    "version": 3
   },
   "file_extension": ".py",
   "mimetype": "text/x-python",
   "name": "python",
   "nbconvert_exporter": "python",
   "pygments_lexer": "ipython3",
   "version": "3.12.3"
  }
 },
 "nbformat": 4,
 "nbformat_minor": 2
}

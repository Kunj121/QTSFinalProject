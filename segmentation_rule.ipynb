{
 "cells": [
  {
   "cell_type": "code",
   "execution_count": 18,
   "id": "1c5c6b06f2fefe37",
   "metadata": {
    "ExecuteTime": {
     "end_time": "2025-03-06T19:44:55.449146Z",
     "start_time": "2025-03-06T19:44:55.445653Z"
    }
   },
   "outputs": [],
   "source": [
    "import warnings\n",
    "warnings.filterwarnings(\"ignore\")\n",
    "import numpy as np\n",
    "import matplotlib.pylab as plt\n",
    "import ruptures as rpt"
   ]
  },
  {
   "cell_type": "code",
   "execution_count": 19,
   "id": "85fc73ee8365fe64",
   "metadata": {
    "ExecuteTime": {
     "end_time": "2025-03-06T19:44:55.915616Z",
     "start_time": "2025-03-06T19:44:55.913236Z"
    }
   },
   "outputs": [],
   "source": [
    "import pandas as pd\n",
    "import os\n",
    "\n",
    "def load_df(asset_name: str, base_dir: str = None):\n",
    "    if base_dir is None:\n",
    "        # Get the current working directory and locate the 'crypto_qts_data_processed' folder\n",
    "        base_dir = os.path.join(os.getcwd(), 'crypto_qts_data_processed')\n",
    "\n",
    "    file_path = os.path.join(base_dir, f\"{asset_name}_price_processed.parquet\")\n",
    "\n",
    "    if os.path.exists(file_path):\n",
    "        return pd.read_parquet(file_path)\n",
    "    else:\n",
    "        raise FileNotFoundError(f\"File not found: {file_path}\")\n",
    "\n",
    "\n",
    "\n"
   ]
  },
  {
   "cell_type": "code",
   "execution_count": 20,
   "id": "initial_id",
   "metadata": {
    "ExecuteTime": {
     "end_time": "2025-03-06T19:44:58.928878Z",
     "start_time": "2025-03-06T19:44:58.925932Z"
    },
    "collapsed": true
   },
   "outputs": [],
   "source": [
    "import numpy as np\n",
    "def segmentation_rule(crypto: str,\n",
    "                      jump = 5,\n",
    "                      pen = 30, plot = False, dates= True):\n",
    "    df = load_df(crypto)\n",
    "    daily = df.loc[::24]\n",
    "    daily['returns'] = daily['price_close'].pct_change()**2\n",
    "    daily = daily[['price_close']]\n",
    "\n",
    "    c = rpt.Pelt(model = \"rbf\", min_size=3, jump=jump).fit(daily.values)\n",
    "    model = c.predict(pen=pen)\n",
    "\n",
    "    if plot:\n",
    "        fig, ax = plt.subplots()\n",
    "        ax.plot(daily.values, color = 'b')\n",
    "        for r in model:\n",
    "            ax.axvline(x = r, color = 'r', linestyle = '--')\n",
    "\n",
    "\n",
    "    \n",
    "    if dates:\n",
    "\n",
    "        y = daily.reset_index()\n",
    "        dates =[]\n",
    "        dates.append(df.index[0])\n",
    "        for m in model:\n",
    "            m = m-1\n",
    "            dates.append(y.loc[m,'index'])\n",
    "    return dates\n",
    "\n",
    "\n",
    "\n",
    "\n"
   ]
  },
  {
   "cell_type": "code",
   "execution_count": 21,
   "id": "a85c6a612895f5a2",
   "metadata": {
    "ExecuteTime": {
     "end_time": "2025-03-06T19:45:19.487233Z",
     "start_time": "2025-03-06T19:45:19.483404Z"
    }
   },
   "outputs": [],
   "source": [
    "def sparse_crypto(crypto = 'crypto',\n",
    "                      jump = 5,\n",
    "                      pen = 30,\n",
    "                    plot = False,\n",
    "                    dates = True):\n",
    "\n",
    "\n",
    "    dates = segmentation_rule(crypto = crypto,\n",
    "                      jump = jump,\n",
    "                      pen = pen, plot = plot, dates = True)\n",
    "\n",
    "    dfs = {}\n",
    "    for j in range(len(dates)-1):\n",
    "        start = dates[j]\n",
    "        end = dates[j+1]\n",
    "        df = load_df(crypto).copy()\n",
    "        df.reset_index(inplace = True)\n",
    "        df_filtered = df[(df['index']>= start) & (df['index']< end)]\n",
    "        df_filtered['start_date'] = start\n",
    "        df_filtered['end_date'] = end\n",
    "\n",
    "        dfs[f\"df_{j}\"] = df_filtered\n",
    "\n",
    "\n",
    "\n",
    "\n",
    "\n",
    "    return dfs\n"
   ]
  },
  {
   "cell_type": "code",
   "execution_count": 22,
   "id": "374c3529489337c0",
   "metadata": {
    "ExecuteTime": {
     "end_time": "2025-03-06T19:45:28.955849Z",
     "start_time": "2025-03-06T19:45:21.030088Z"
    }
   },
   "outputs": [],
   "source": [
    "# Each segmented df is stored in a dictionary\n",
    "btc_dfs = sparse_crypto(crypto = 'BTC',\n",
    "                      jump = 5,\n",
    "                      pen = 30,\n",
    "                    plot = False,\n",
    "                    dates = True)"
   ]
  },
  {
   "cell_type": "code",
   "execution_count": 23,
   "id": "a8705416af6af55d",
   "metadata": {
    "ExecuteTime": {
     "end_time": "2025-03-06T19:45:28.981409Z",
     "start_time": "2025-03-06T19:45:28.979270Z"
    }
   },
   "outputs": [],
   "source": [
    "def summary_table(crypto = 'BTC',\n",
    "                      jump = 5,\n",
    "                      pen = 30,\n",
    "                    plot = False,\n",
    "                    dates = True):\n",
    "    dfs = sparse_crypto(crypto = crypto,\n",
    "                      jump = jump,\n",
    "                      pen = pen ,\n",
    "                    plot = plot,\n",
    "                    dates = True)\n",
    "\n",
    "    dfs_summary = {}\n",
    "\n",
    "    for k, v in dfs.items():\n",
    "        mean = v['price_close'].mean()\n",
    "        stdv = v['price_close'].std()\n",
    "        start_date = (v['start_date'].values[1])\n",
    "        end_date = (v['end_date'].values[1])\n",
    "\n",
    "\n",
    "        dfs_summary[k] = {'mean':mean, 'stdv':stdv, 'start_date':start_date, 'end_date':end_date}\n",
    "\n",
    "    dfs_summary_df = pd.DataFrame.from_dict(dfs_summary, orient='index')\n",
    "\n",
    "    return dfs_summary_df\n",
    "\n",
    "\n",
    "\n"
   ]
  },
  {
   "cell_type": "code",
   "execution_count": 24,
   "id": "d8485c8626f903a6",
   "metadata": {
    "ExecuteTime": {
     "end_time": "2025-03-06T19:45:44.035848Z",
     "start_time": "2025-03-06T19:45:44.031806Z"
    }
   },
   "outputs": [],
   "source": [
    "from datetime import timedelta\n",
    "import numpy as np\n",
    "def normalize_data(crypto = 'BTC'):\n",
    "\n",
    "    zscore_data = summary_table(\n",
    "                    crypto = crypto,\n",
    "                    jump = 5,\n",
    "                    pen = 30,\n",
    "                    plot = False,\n",
    "                    dates = True)\n",
    "\n",
    "\n",
    "\n",
    "    dfs = sparse_crypto(crypto = crypto,\n",
    "                      jump = 5,\n",
    "                      pen = 30,\n",
    "                    plot = False,\n",
    "                    dates = True)\n",
    "\n",
    "    for k,v in dfs.items():\n",
    "\n",
    "        start_date = v['start_date'].values[0]\n",
    "\n",
    "        mean = zscore_data[zscore_data['start_date']==start_date]['mean'].values[0]\n",
    "        std = zscore_data[zscore_data['start_date']==start_date]['stdv'].values[0]\n",
    "\n",
    "        v['normalized_price'] = (v['price_close'] - mean)/std\n",
    "        v['returns_normalized'] = v['normalized_price'].pct_change()\n",
    "\n",
    "\n",
    "\n",
    "\n",
    "    return dfs\n"
   ]
  },
  {
   "cell_type": "code",
   "execution_count": 25,
   "id": "2ab5a52365aa5138",
   "metadata": {
    "ExecuteTime": {
     "end_time": "2025-03-06T19:45:47.186511Z",
     "start_time": "2025-03-06T19:45:47.183021Z"
    }
   },
   "outputs": [],
   "source": [
    "def concat_dicts(dates, crypto = 'BTC'):\n",
    "    dfs = normalize_data(crypto = crypto)\n",
    "\n",
    "    token = load_df(crypto)\n",
    "\n",
    "    y = token.loc[:dates[0]]\n",
    "\n",
    "\n",
    "\n",
    "    for i in range(len(dfs)):\n",
    "\n",
    "        y = pd.concat([y, dfs[f'df_{i}']], ignore_index = True)\n",
    "\n",
    "    return y\n"
   ]
  },
  {
   "cell_type": "code",
   "execution_count": null,
   "id": "d1ddeb7a504dd0aa",
   "metadata": {
    "ExecuteTime": {
     "end_time": "2025-03-06T19:48:39.464227Z",
     "start_time": "2025-03-06T19:48:22.896626Z"
    }
   },
   "outputs": [],
   "source": [
    "coins = set(['arb', 'avax', 'btc', 'eth', 'matic', 'sol', 'tron'])\n",
    "for coin in coins:\n",
    "    dates = segmentation_rule(coin.upper())\n",
    "    \n",
    "    df = concat_dicts(dates, crypto = coin.upper())\n",
    "    outpath = f'Data/data_segmented/{coin}_data.parquet'\n",
    "    df.to_parquet(outpath, engine=\"pyarrow\", index=True)"
   ]
  }
 ],
 "metadata": {
  "kernelspec": {
   "display_name": "Python 3",
   "language": "python",
   "name": "python3"
  },
  "language_info": {
   "codemirror_mode": {
    "name": "ipython",
    "version": 3
   },
   "file_extension": ".py",
   "mimetype": "text/x-python",
   "name": "python",
   "nbconvert_exporter": "python",
   "pygments_lexer": "ipython3",
   "version": "3.12.6"
  }
 },
 "nbformat": 4,
 "nbformat_minor": 5
}

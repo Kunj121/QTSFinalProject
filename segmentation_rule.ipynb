{
 "cells": [
  {
   "metadata": {
    "ExecuteTime": {
     "end_time": "2025-03-05T20:50:34.788524Z",
     "start_time": "2025-03-05T20:50:34.776537Z"
    }
   },
   "cell_type": "code",
   "source": [
    "import warnings\n",
    "warnings.filterwarnings(\"ignore\")\n",
    "import numpy as np\n",
    "import matplotlib.pylab as plt\n",
    "import ruptures as rpt"
   ],
   "id": "1c5c6b06f2fefe37",
   "outputs": [],
   "execution_count": 26
  },
  {
   "metadata": {
    "ExecuteTime": {
     "end_time": "2025-03-05T20:05:00.457240Z",
     "start_time": "2025-03-05T20:04:59.857500Z"
    }
   },
   "cell_type": "code",
   "outputs": [],
   "execution_count": 2,
   "source": [
    "import pandas as pd\n",
    "import os\n",
    "\n",
    "def load_df(asset_name: str, base_dir: str = None):\n",
    "    if base_dir is None:\n",
    "        # Get the current working directory and locate the 'crypto_qts_data_processed' folder\n",
    "        base_dir = os.path.join(os.getcwd(), 'crypto_qts_data_processed')\n",
    "\n",
    "    file_path = os.path.join(base_dir, f\"{asset_name}_price_processed.parquet\")\n",
    "\n",
    "    if os.path.exists(file_path):\n",
    "        return pd.read_parquet(file_path)\n",
    "    else:\n",
    "        raise FileNotFoundError(f\"File not found: {file_path}\")\n"
   ],
   "id": "85fc73ee8365fe64"
  },
  {
   "metadata": {
    "collapsed": true,
    "ExecuteTime": {
     "end_time": "2025-03-05T20:55:04.807370Z",
     "start_time": "2025-03-05T20:55:04.797713Z"
    }
   },
   "cell_type": "code",
   "source": [
    "def segmentation_rule(crypto: str,\n",
    "                      jump = 5,\n",
    "                      pen = 30, plot = False, dates= False):\n",
    "    df = load_df(crypto)\n",
    "    df = df[['price_close']]\n",
    "    daily = df.loc[::24]\n",
    "\n",
    "    c = rpt.Pelt(model = \"rbf\", min_size=3, jump=jump).fit(daily.values)\n",
    "    model = c.predict(pen=pen)\n",
    "\n",
    "    if plot:\n",
    "        fig, ax = plt.subplots()\n",
    "        ax.plot(daily.values, color = 'b')\n",
    "        for r in model:\n",
    "            ax.axvline(x = r, color = 'r', linestyle = '--')\n",
    "\n",
    "\n",
    "\n",
    "    if dates:\n",
    "\n",
    "        y = daily.reset_index()\n",
    "        dates = []\n",
    "        for m in model:\n",
    "            m = m-1\n",
    "            dates.append(y.loc[m,'index'])\n",
    "    return dates\n"
   ],
   "id": "initial_id",
   "outputs": [],
   "execution_count": 32
  },
  {
   "metadata": {
    "ExecuteTime": {
     "end_time": "2025-03-05T20:49:31.981886Z",
     "start_time": "2025-03-05T20:49:31.977563Z"
    }
   },
   "cell_type": "code",
   "source": [
    "def sparse_crypto(crypto = 'crypto',\n",
    "                      jump = 5,\n",
    "                      pen = 30,\n",
    "                    plot = False,\n",
    "                    dates = True):\n",
    "\n",
    "    dates = segmentation_rule(crypto = crypto,\n",
    "                      jump = jump,\n",
    "                      pen = pen, plot = False, dates = True)\n",
    "\n",
    "    dfs = {}\n",
    "    for j in range(len(dates)-1):\n",
    "        start = dates[j]\n",
    "        end = dates[j+1]\n",
    "        df = load_df(crypto).copy()\n",
    "        df.reset_index(inplace = True)\n",
    "        df_filtered = df[(df['index']>= start) & (df['index']< end)]\n",
    "        df_filtered['start_date'] = start\n",
    "        df_filtered['end_date'] = end\n",
    "\n",
    "        dfs[f\"df_{j}\"] = df_filtered\n",
    "\n",
    "    return dfs\n"
   ],
   "id": "a85c6a612895f5a2",
   "outputs": [],
   "execution_count": 24
  },
  {
   "metadata": {
    "ExecuteTime": {
     "end_time": "2025-03-05T20:57:02.074866Z",
     "start_time": "2025-03-05T20:56:59.529868Z"
    }
   },
   "cell_type": "code",
   "source": [
    "#Each segmented df is stored in a dictionary\n",
    "\n",
    "# eth_dfs = sparse_crypto(crypto = 'ETH',\n",
    "#                       jump = 5,\n",
    "#                       pen = 30,\n",
    "#                     plot = False,\n",
    "#                     dates = True)"
   ],
   "id": "374c3529489337c0",
   "outputs": [],
   "execution_count": 39
  },
  {
   "metadata": {
    "ExecuteTime": {
     "end_time": "2025-03-05T20:55:06.605220Z",
     "start_time": "2025-03-05T20:55:06.600414Z"
    }
   },
   "cell_type": "code",
   "source": [
    "def summary_table(crypto = 'BTC',\n",
    "                      jump = 5,\n",
    "                      pen = 30,\n",
    "                    plot = False,\n",
    "                    dates = True):\n",
    "    dfs = sparse_crypto(crypto = crypto,\n",
    "                      jump = jump,\n",
    "                      pen = pen ,\n",
    "                    plot = False,\n",
    "                    dates = True)\n",
    "\n",
    "    dfs_summary = {}\n",
    "\n",
    "    for k, v in dfs.items():\n",
    "        mean = v['price_close'].mean()\n",
    "        stdv = v['price_close'].std()\n",
    "        start_date = (v['start_date'].values[1])\n",
    "        end_date = (v['end_date'].values[1])\n",
    "\n",
    "\n",
    "        dfs_summary[k] = {'mean':mean, 'stdv':stdv, 'start_date':start_date, 'end_date':end_date}\n",
    "\n",
    "    dfs_summary_df = pd.DataFrame.from_dict(dfs_summary, orient='index')\n",
    "\n",
    "    return dfs_summary_df\n",
    "\n",
    "\n",
    "\n"
   ],
   "id": "a8705416af6af55d",
   "outputs": [],
   "execution_count": 33
  },
  {
   "metadata": {
    "ExecuteTime": {
     "end_time": "2025-03-05T20:55:18.008043Z",
     "start_time": "2025-03-05T20:55:15.242851Z"
    }
   },
   "cell_type": "code",
   "source": [
    "#Summary of each df\n",
    "# summary_table(crypto = 'ETH',\n",
    "#                       jump = 5,\n",
    "#                       pen = 30,\n",
    "#                     plot = False,\n",
    "#                     dates = True)"
   ],
   "id": "96e3d935cfe3073",
   "outputs": [
    {
     "data": {
      "text/plain": [
       "             mean        stdv          start_date            end_date\n",
       "df_0  2114.953103  627.146114 2021-01-07 05:00:00 2021-08-05 05:00:00\n",
       "df_1  3768.326766  518.457228 2021-08-05 05:00:00 2022-01-07 05:00:00\n",
       "df_2  2911.608473  292.167232 2022-01-07 05:00:00 2022-05-12 05:00:00\n",
       "df_3  1666.292052  298.424393 2022-05-12 05:00:00 2024-01-07 05:00:00\n",
       "df_4  3059.139635  484.799471 2024-01-07 05:00:00 2025-02-25 05:00:00"
      ],
      "text/html": [
       "<div>\n",
       "<style scoped>\n",
       "    .dataframe tbody tr th:only-of-type {\n",
       "        vertical-align: middle;\n",
       "    }\n",
       "\n",
       "    .dataframe tbody tr th {\n",
       "        vertical-align: top;\n",
       "    }\n",
       "\n",
       "    .dataframe thead th {\n",
       "        text-align: right;\n",
       "    }\n",
       "</style>\n",
       "<table border=\"1\" class=\"dataframe\">\n",
       "  <thead>\n",
       "    <tr style=\"text-align: right;\">\n",
       "      <th></th>\n",
       "      <th>mean</th>\n",
       "      <th>stdv</th>\n",
       "      <th>start_date</th>\n",
       "      <th>end_date</th>\n",
       "    </tr>\n",
       "  </thead>\n",
       "  <tbody>\n",
       "    <tr>\n",
       "      <th>df_0</th>\n",
       "      <td>2114.953103</td>\n",
       "      <td>627.146114</td>\n",
       "      <td>2021-01-07 05:00:00</td>\n",
       "      <td>2021-08-05 05:00:00</td>\n",
       "    </tr>\n",
       "    <tr>\n",
       "      <th>df_1</th>\n",
       "      <td>3768.326766</td>\n",
       "      <td>518.457228</td>\n",
       "      <td>2021-08-05 05:00:00</td>\n",
       "      <td>2022-01-07 05:00:00</td>\n",
       "    </tr>\n",
       "    <tr>\n",
       "      <th>df_2</th>\n",
       "      <td>2911.608473</td>\n",
       "      <td>292.167232</td>\n",
       "      <td>2022-01-07 05:00:00</td>\n",
       "      <td>2022-05-12 05:00:00</td>\n",
       "    </tr>\n",
       "    <tr>\n",
       "      <th>df_3</th>\n",
       "      <td>1666.292052</td>\n",
       "      <td>298.424393</td>\n",
       "      <td>2022-05-12 05:00:00</td>\n",
       "      <td>2024-01-07 05:00:00</td>\n",
       "    </tr>\n",
       "    <tr>\n",
       "      <th>df_4</th>\n",
       "      <td>3059.139635</td>\n",
       "      <td>484.799471</td>\n",
       "      <td>2024-01-07 05:00:00</td>\n",
       "      <td>2025-02-25 05:00:00</td>\n",
       "    </tr>\n",
       "  </tbody>\n",
       "</table>\n",
       "</div>"
      ]
     },
     "execution_count": 34,
     "metadata": {},
     "output_type": "execute_result"
    }
   ],
   "execution_count": 34
  },
  {
   "metadata": {},
   "cell_type": "code",
   "outputs": [],
   "execution_count": null,
   "source": "",
   "id": "9ff28a271b568c68"
  }
 ],
 "metadata": {
  "kernelspec": {
   "display_name": "Python 3",
   "language": "python",
   "name": "python3"
  },
  "language_info": {
   "codemirror_mode": {
    "name": "ipython",
    "version": 2
   },
   "file_extension": ".py",
   "mimetype": "text/x-python",
   "name": "python",
   "nbconvert_exporter": "python",
   "pygments_lexer": "ipython2",
   "version": "2.7.6"
  }
 },
 "nbformat": 4,
 "nbformat_minor": 5
}

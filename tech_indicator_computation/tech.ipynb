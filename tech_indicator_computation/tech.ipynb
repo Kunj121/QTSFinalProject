{
 "cells": [
  {
   "cell_type": "code",
   "execution_count": 10,
   "metadata": {},
   "outputs": [],
   "source": [
    "import numpy as np\n",
    "import pandas as pd\n",
    "import matplotlib.pyplot as plt"
   ]
  },
  {
   "cell_type": "code",
   "execution_count": 11,
   "metadata": {},
   "outputs": [],
   "source": [
    "def bollinger(n):\n",
    "    df['SMA'] = df['price_close'].rolling(n).mean()\n",
    "    df['stdev'] = df['price_close'].rolling(n).std()\n",
    "    df['bollinger'] = (df['price_close'] - df['SMA']) / df['stdev']\n",
    "    df.drop(columns=['SMA', 'stdev'], inplace=True)\n",
    "\n",
    "def EMA(n1, n2):\n",
    "    df['EMA1'] = df['price_close'].ewm(span=n1, adjust=False).mean()\n",
    "    df['EMA2'] = df['price_close'].ewm(span=n2, adjust=False).mean()\n",
    "    df['EMAcross'] = df['EMA1'] - df['EMA2']\n",
    "    df.drop(columns=['EMA1', 'EMA2'], inplace=True)\n",
    "\n",
    "def RSI(n):\n",
    "    df['price_close_prev'] = df['price_close'].shift()\n",
    "    df['U'] = (df['price_close'] - df['price_close_prev']).clip(lower=0)\n",
    "    df['D'] = (df['price_close_prev'] - df['price_close']).clip(lower=0)\n",
    "    df['RSI'] = df['U'].rolling(n).mean() / (df['D'].rolling(n).mean() + df['U'].rolling(n).mean())\n",
    "    df.drop(columns=['price_close_prev', 'U', 'D'], inplace=True)\n",
    "\n",
    "def time():\n",
    "    df['Hour'] = df.index.hour\n",
    "    df['Day of Week'] = df.index.weekday + 1  # Monday=1, Sunday=7\n",
    "    df['Month'] = df.index.month\n",
    "\n",
    "from datetime import timedelta\n",
    "\n",
    "def fib_ratio(window, df):\n",
    "    fib_ratios = [0.236, 0.382, 0.5, 0.618, 0.786]\n",
    "    fib_data = []\n",
    "\n",
    "    for time in df.index[window:]:\n",
    "        try:\n",
    "            swing_high = df.loc[time - timedelta(days=window):time, 'price_close'].max()\n",
    "            swing_low = df.loc[time - timedelta(days=window):time, 'price_close'].min()\n",
    "\n",
    "            price_diff = swing_high - swing_low\n",
    "            levels = [swing_high - ratio * price_diff for ratio in fib_ratios]\n",
    "\n",
    "            fib_data.append([time] + levels)\n",
    "\n",
    "        except Exception as e:\n",
    "            print(f\"Error processing {time}: {e}\")\n",
    "            continue\n",
    "\n",
    "    columns = ['time_period_end'] + [f'fib_{int(ratio * 100)}' for ratio in fib_ratios]\n",
    "    fib_df = pd.DataFrame(fib_data, columns=columns)\n",
    "    fib_df.set_index('time_period_end', inplace=True)\n",
    "    fib_df = fib_df.merge(df, how='left', left_index=True, right_index=True)\n",
    "\n",
    "    return fib_df"
   ]
  },
  {
   "cell_type": "code",
   "execution_count": 12,
   "metadata": {},
   "outputs": [],
   "source": [
    "coins = set(['arb', 'avax', 'btc', 'eth', 'matic', 'sol', 'tron'])\n",
    "for coin in coins:\n",
    "    filepath = f'../Data/data_segmented/{coin}_data.parquet'\n",
    "    df = pd.read_parquet(filepath)\n",
    "    df.set_index('index', inplace=True)\n",
    "    df = df.iloc[1:]\n",
    "    n = 24\n",
    "    bollinger(n)\n",
    "    EMA(20, 50)\n",
    "    RSI(n)\n",
    "    time()\n",
    "    df = fib_ratio(n, df)\n",
    "    outpath = f'../Data/data_segmented_tech/{coin}_data.parquet'\n",
    "    df.to_parquet(outpath, engine=\"pyarrow\", index=False)"
   ]
  }
 ],
 "metadata": {
  "kernelspec": {
   "display_name": "Python 3",
   "language": "python",
   "name": "python3"
  },
  "language_info": {
   "codemirror_mode": {
    "name": "ipython",
    "version": 3
   },
   "file_extension": ".py",
   "mimetype": "text/x-python",
   "name": "python",
   "nbconvert_exporter": "python",
   "pygments_lexer": "ipython3",
   "version": "3.12.6"
  }
 },
 "nbformat": 4,
 "nbformat_minor": 2
}

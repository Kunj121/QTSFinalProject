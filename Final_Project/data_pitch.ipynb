{
 "cells": [
  {
   "cell_type": "markdown",
   "metadata": {},
   "source": [
    "# Proposition to Sponsor Access to Crypto Data"
   ]
  },
  {
   "cell_type": "markdown",
   "metadata": {},
   "source": [
    "## (1) Costs to the Program\n",
    "\n",
    "For a single 1-month account the cost is $420."
   ]
  },
  {
   "cell_type": "markdown",
   "metadata": {},
   "source": [
    "## (2) Comparisons to Alternatives"
   ]
  },
  {
   "cell_type": "markdown",
   "metadata": {},
   "source": [
    "We’ve confirmed that [StakingRewards.com](https://www.stakingrewards.com/) is the *only* provider consolidating the following metrics **at an hourly granularity** at any reasonable price for multiple major Proof of Stake (PoS) networks—including **ETH, TRON, ARBITRUM, MATIC, AVALANCHE, and SOL**:"
   ]
  },
  {
   "cell_type": "markdown",
   "metadata": {},
   "source": [
    "## (3) Usefulness to the Program at Large"
   ]
  },
  {
   "cell_type": "markdown",
   "metadata": {},
   "source": [
    "1. **Curriculum Enhancement**\n",
    "   - Incorporating live on-chain metrics in coursework provides practical, cutting-edge training.\n",
    "   - Distinguishes our program through hands-on use of real-world crypto data.\n",
    "\n",
    "2. **Practical Exposure for Students**\n",
    "   - Working with real metrics from leading PoS networks boosts students’ employability, especially as the demand for crypto-fluent quants grows.\n",
    "\n",
    "3. **Research Outcomes**\n",
    "   - Advanced staking metrics can lead to publishable findings and innovative quant models, directly impacting the quality and recognition of our program’s work.\n",
    "\n",
    "4. **Future Proofing**\n",
    "   - As crypto adoption accelerates, **on-chain staking data** is becoming a standard for deeper analysis and alpha generation.\n",
    "   - Securing access now positions us at the forefront of this evolving industry.\n",
    "\n",
    "## (4) Cost Effectiveness"
   ]
  },
  {
   "cell_type": "markdown",
   "metadata": {},
   "source": [
    "\n",
    "\n",
    "- **Monthly Advanced Plan**: costs **$420$ in total.\n",
    "- **Group of 5 People**: effectively **$84$ each.\n",
    "- **Long-Term Utility**: If future cohorts or research groups share this data, the per-person cost drops further.\n",
    "  - For instance, if **10 additional students** leverage these metrics, the cost could be **$28$ per person**.\n",
    "\n",
    "This **cost-sharing model** makes the plan both affordable and ensures the data remains accessible for ongoing or future projects—such as **Week 3 (Staking)** in the FINM 31200 - Blockchain and Cryptoassets for Finance for more advanced crypto research modules."
   ]
  },
  {
   "cell_type": "markdown",
   "metadata": {},
   "source": [
    "## (5) Conclusion"
   ]
  },
  {
   "cell_type": "markdown",
   "metadata": {},
   "source": [
    "Purchasing the **Advanced Plan for one month** from StakingRewards.com is a **strategic investment** for:\n",
    "\n",
    "- **High-fidelity, hourly staking data** unmatched by free alternatives.\n",
    "- **Quantitative research excellence**, granting our group and future cohorts deeper insights and a competitive edge.\n",
    "- **Long-term cost savings**, as this data can be shared across multiple classes and research groups, reducing the effective cost per user.\n",
    "\n",
    "Given the crucial role of **on-chain data** in modern crypto markets and the potential for significant academic and professional benefits, **we strongly recommend** proceeding with the **$420$ one-month subscription** to support our final quant trading strategies research—and beyond."
   ]
  },
  {
   "cell_type": "markdown",
   "metadata": {},
   "source": [
    "## (6) Access to Unique, Hard-to-Find Data\n",
    "\n",
    "\n",
    "- **active_validators**\n",
    "- **annualized_rewards_usd**\n",
    "- **block_reward**\n",
    "- **block_time**\n",
    "- **circulating_percentage**\n",
    "- **circulating_supply**\n",
    "- **daily_trading_volume**\n",
    "- **delegated_tokens**\n",
    "- **inflation_rate**\n",
    "- **marketcap**\n",
    "- **net_staking_flow_7d**\n",
    "- **price**\n",
    "- **real_reward_rate**\n",
    "- **reward_rate**\n",
    "- **staked_tokens**\n",
    "- **staking_marketcap**\n",
    "- **staking_ratio**\n",
    "- **total_staking_wallets**\n",
    "- **total_validators**\n",
    "\n",
    "These indicators are central to understanding each network’s health, security, and market performance. Other platforms (CoinMarketCap, CoinAPI, Glassnode, Dune, Bitquery, etc.) either lack comparable coverage, update less frequently, or don’t provide the same breadth of **staking-specific** metrics.\n",
    "\n",
    "The above columns are various metrics we are trying to pull. The main columns we are looking for are for example staking ratio, staking_marketcap, total_staking_wallet. These columns explain staking behavior for Proof-of-Stake tokens\n",
    "\n",
    "---\n"
   ]
  }
 ],
 "metadata": {
  "language_info": {
   "name": "python"
  }
 },
 "nbformat": 4,
 "nbformat_minor": 2
}

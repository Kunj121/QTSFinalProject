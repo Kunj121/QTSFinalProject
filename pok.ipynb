{
 "cells": [
  {
   "cell_type": "code",
   "id": "initial_id",
   "metadata": {
    "collapsed": true,
    "ExecuteTime": {
     "end_time": "2025-03-04T22:01:44.174314Z",
     "start_time": "2025-03-04T22:01:44.172487Z"
    }
   },
   "source": "api = '034270d2-32e5-4068-87d7-aa791e60de38'\n",
   "outputs": [],
   "execution_count": 1
  },
  {
   "metadata": {
    "ExecuteTime": {
     "end_time": "2025-03-04T22:02:27.320037Z",
     "start_time": "2025-03-04T22:02:26.771719Z"
    }
   },
   "cell_type": "code",
   "source": [
    "from kunj.data_preparation import *\n",
    "import kunj.data_preparation as dp"
   ],
   "id": "8ab02181432f23eb",
   "outputs": [],
   "execution_count": 2
  },
  {
   "metadata": {
    "ExecuteTime": {
     "end_time": "2025-03-04T22:04:08.956362Z",
     "start_time": "2025-03-04T22:03:41.024129Z"
    }
   },
   "cell_type": "code",
   "source": [
    "dot_hourly = dp.fetch_with_fallbacks('DOT', period_id=\"1HRS\", start_date='2020-01-01')\n",
    "dot_hourly.to_parquet()"
   ],
   "id": "8b5a1c03225a4f26",
   "outputs": [
    {
     "name": "stdout",
     "output_type": "stream",
     "text": [
      "Fetching DOT/USDT extra_data from BINANCE with 1HRS candles\n",
      "Symbol ID: BINANCE_SPOT_DOT_USDT\n",
      "Date range: 2020-01-01 to 2025-02-25T00:00:00\n",
      "Retrieved 4403 records\n",
      "Retrieved 9808 records\n",
      "Retrieved 9999 records\n",
      "Retrieved 9976 records\n",
      "Retrieved 5164 records\n",
      "No more extra_data available\n",
      "Success with DOT/USDT on BINANCE!\n",
      "Total records: 39350\n",
      "Date range: 2020-08-18 23:00:00+00:00 to 2025-02-24 23:00:00+00:00\n"
     ]
    }
   ],
   "execution_count": 5
  },
  {
   "metadata": {
    "ExecuteTime": {
     "end_time": "2025-03-04T22:05:09.865239Z",
     "start_time": "2025-03-04T22:05:09.821393Z"
    }
   },
   "cell_type": "code",
   "source": "dot_hourly.to_parquet('dot_hourly')",
   "id": "e123c8a41206875b",
   "outputs": [],
   "execution_count": 9
  },
  {
   "metadata": {
    "ExecuteTime": {
     "end_time": "2025-03-04T22:05:57.921805Z",
     "start_time": "2025-03-04T22:05:24.723204Z"
    }
   },
   "cell_type": "code",
   "source": "near_hourly = dp.fetch_with_fallbacks('NEAR', period_id=\"1HRS\", start_date='2020-01-01')",
   "id": "deaa7beef041d89e",
   "outputs": [
    {
     "name": "stdout",
     "output_type": "stream",
     "text": [
      "Fetching NEAR/USDT extra_data from BINANCE with 1HRS candles\n",
      "Symbol ID: BINANCE_SPOT_NEAR_USDT\n",
      "Date range: 2020-01-01 to 2025-02-25T00:00:00\n",
      "Retrieved 3021 records\n",
      "Retrieved 9764 records\n",
      "Retrieved 9999 records\n",
      "Retrieved 9976 records\n",
      "Retrieved 5164 records\n",
      "No more extra_data available\n",
      "Success with NEAR/USDT on BINANCE!\n",
      "Total records: 37924\n",
      "Date range: 2020-10-14 05:00:00+00:00 to 2025-02-24 23:00:00+00:00\n"
     ]
    }
   ],
   "execution_count": 10
  },
  {
   "metadata": {},
   "cell_type": "code",
   "outputs": [],
   "execution_count": null,
   "source": "# eth_hourly = fetch_with_fallbacks(\"ETH\", period_id=\"1HRS\")\n",
   "id": "c00f3696a8be8c0e"
  },
  {
   "metadata": {
    "ExecuteTime": {
     "end_time": "2025-03-04T22:08:45.865378Z",
     "start_time": "2025-03-04T22:08:45.806031Z"
    }
   },
   "cell_type": "code",
   "source": "near_hourly.to_csv('near_hourly', index=False)",
   "id": "7b440e32e5170400",
   "outputs": [
    {
     "ename": "NameError",
     "evalue": "name 'near_hourly' is not defined",
     "output_type": "error",
     "traceback": [
      "\u001B[0;31m---------------------------------------------------------------------------\u001B[0m",
      "\u001B[0;31mNameError\u001B[0m                                 Traceback (most recent call last)",
      "Cell \u001B[0;32mIn[1], line 1\u001B[0m\n\u001B[0;32m----> 1\u001B[0m \u001B[43mnear_hourly\u001B[49m\u001B[38;5;241m.\u001B[39mto_csv(\u001B[38;5;124m'\u001B[39m\u001B[38;5;124mnear_hourly\u001B[39m\u001B[38;5;124m'\u001B[39m, index\u001B[38;5;241m=\u001B[39m\u001B[38;5;28;01mFalse\u001B[39;00m)\n",
      "\u001B[0;31mNameError\u001B[0m: name 'near_hourly' is not defined"
     ]
    }
   ],
   "execution_count": 1
  },
  {
   "metadata": {},
   "cell_type": "code",
   "outputs": [],
   "execution_count": null,
   "source": "",
   "id": "5202f3ad3bf95e"
  }
 ],
 "metadata": {
  "kernelspec": {
   "display_name": "Python 3",
   "language": "python",
   "name": "python3"
  },
  "language_info": {
   "codemirror_mode": {
    "name": "ipython",
    "version": 2
   },
   "file_extension": ".py",
   "mimetype": "text/x-python",
   "name": "python",
   "nbconvert_exporter": "python",
   "pygments_lexer": "ipython2",
   "version": "2.7.6"
  }
 },
 "nbformat": 4,
 "nbformat_minor": 5
}

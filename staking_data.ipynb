{
 "cells": [
  {
   "cell_type": "code",
   "execution_count": 250,
   "metadata": {},
   "outputs": [],
   "source": [
    "import graphene\n",
    "import requests\n",
    "import pandas as pd\n",
    "\n",
    "API_KEY = 'b105a60a-d678-4749-916a-b56e7a24d0d5'"
   ]
  },
  {
   "cell_type": "code",
   "execution_count": 251,
   "metadata": {},
   "outputs": [
    {
     "data": {
      "text/plain": [
       "'\\n#\"price\", \\n          \"active_validators\", \\n          \"annualized_rewards_usd\", \\n          \"net_staking_flow_7d\", \\n          \"staked_tokens\", \\n          \"staking_marketcap\", \\n\\n'"
      ]
     },
     "execution_count": 251,
     "metadata": {},
     "output_type": "execute_result"
    }
   ],
   "source": [
    "'''\n",
    "#\"price\", \n",
    "          \"active_validators\", \n",
    "          \"annualized_rewards_usd\", \n",
    "          \"net_staking_flow_7d\", \n",
    "          \"staked_tokens\", \n",
    "          \"staking_marketcap\", \n",
    "\n",
    "'''"
   ]
  },
  {
   "cell_type": "code",
   "execution_count": 252,
   "metadata": {},
   "outputs": [
    {
     "name": "stdout",
     "output_type": "stream",
     "text": [
      "<Response [200]>\n",
      "{'data': {'assets': [{'symbol': 'ETH', 'metrics': [{'metricKey': 'staking_ratio', 'defaultValue': 0.5930814090680153, 'createdAt': '2020-12-01T01:40:21Z'}, {'metricKey': 'staking_ratio', 'defaultValue': 0.5930814090680153, 'createdAt': '2020-12-01T02:00:00Z'}, {'metricKey': 'staking_ratio', 'defaultValue': 0.5930754618203001, 'createdAt': '2020-12-01T03:40:18Z'}, {'metricKey': 'staking_ratio', 'defaultValue': 0.5930754618203001, 'createdAt': '2020-12-01T04:00:00Z'}, {'metricKey': 'staking_ratio', 'defaultValue': 0.5930693294371676, 'createdAt': '2020-12-01T05:40:17Z'}, {'metricKey': 'staking_ratio', 'defaultValue': 0.5930693294371676, 'createdAt': '2020-12-01T06:00:00Z'}, {'metricKey': 'staking_ratio', 'defaultValue': 0.5930637261897744, 'createdAt': '2020-12-01T07:40:17Z'}, {'metricKey': 'staking_ratio', 'defaultValue': 0.5930637261897744, 'createdAt': '2020-12-01T08:00:00Z'}, {'metricKey': 'staking_ratio', 'defaultValue': 0.5930581282665011, 'createdAt': '2020-12-01T09:40:16Z'}, {'metricKey': 'staking_ratio', 'defaultValue': 0.5930581282665011, 'createdAt': '2020-12-01T10:00:00Z'}, {'metricKey': 'staking_ratio', 'defaultValue': 0.5930522352977396, 'createdAt': '2020-12-01T11:40:16Z'}, {'metricKey': 'staking_ratio', 'defaultValue': 0.5930522352977396, 'createdAt': '2020-12-01T12:00:00Z'}, {'metricKey': 'staking_ratio', 'defaultValue': 0.5930457325887776, 'createdAt': '2020-12-01T13:40:18Z'}, {'metricKey': 'staking_ratio', 'defaultValue': 0.5930457325887776, 'createdAt': '2020-12-01T14:00:00Z'}, {'metricKey': 'staking_ratio', 'defaultValue': 0.5930399996652399, 'createdAt': '2020-12-01T15:40:18Z'}, {'metricKey': 'staking_ratio', 'defaultValue': 0.5930399996652399, 'createdAt': '2020-12-01T16:00:00Z'}, {'metricKey': 'staking_ratio', 'defaultValue': 0.5930342032603253, 'createdAt': '2020-12-01T17:40:21Z'}, {'metricKey': 'staking_ratio', 'defaultValue': 0.5930342032603253, 'createdAt': '2020-12-01T18:00:00Z'}, {'metricKey': 'staking_ratio', 'defaultValue': 0.593028464689754, 'createdAt': '2020-12-01T19:40:19Z'}, {'metricKey': 'staking_ratio', 'defaultValue': 0.593028464689754, 'createdAt': '2020-12-01T20:00:00Z'}, {'metricKey': 'staking_ratio', 'defaultValue': 0.5930220694630186, 'createdAt': '2020-12-01T21:40:18Z'}, {'metricKey': 'staking_ratio', 'defaultValue': 0.5930220694630186, 'createdAt': '2020-12-01T22:00:00Z'}, {'metricKey': 'staking_ratio', 'defaultValue': 0.6006744342765966, 'createdAt': '2020-12-01T23:40:18Z'}, {'metricKey': 'staking_ratio', 'defaultValue': 0.6006744342765966, 'createdAt': '2020-12-02T00:00:00Z'}, {'metricKey': 'staking_ratio', 'defaultValue': 0.6006686539875336, 'createdAt': '2020-12-02T01:40:18Z'}, {'metricKey': 'staking_ratio', 'defaultValue': 0.6006686539875336, 'createdAt': '2020-12-02T02:00:00Z'}, {'metricKey': 'staking_ratio', 'defaultValue': 0.6006631638068446, 'createdAt': '2020-12-02T03:40:17Z'}, {'metricKey': 'staking_ratio', 'defaultValue': 0.6006631638068446, 'createdAt': '2020-12-02T04:00:00Z'}, {'metricKey': 'staking_ratio', 'defaultValue': 0.6006578210345449, 'createdAt': '2020-12-02T05:40:17Z'}, {'metricKey': 'staking_ratio', 'defaultValue': 0.6006578210345449, 'createdAt': '2020-12-02T06:00:00Z'}, {'metricKey': 'staking_ratio', 'defaultValue': 0.6006519756696262, 'createdAt': '2020-12-02T07:40:16Z'}, {'metricKey': 'staking_ratio', 'defaultValue': 0.6006519756696262, 'createdAt': '2020-12-02T08:00:00Z'}, {'metricKey': 'staking_ratio', 'defaultValue': 0.6006460184555149, 'createdAt': '2020-12-02T09:40:17Z'}, {'metricKey': 'staking_ratio', 'defaultValue': 0.6006460184555149, 'createdAt': '2020-12-02T10:00:00Z'}, {'metricKey': 'staking_ratio', 'defaultValue': 0.6006398717860209, 'createdAt': '2020-12-02T11:40:20Z'}, {'metricKey': 'staking_ratio', 'defaultValue': 0.6006398717860209, 'createdAt': '2020-12-02T12:00:00Z'}, {'metricKey': 'staking_ratio', 'defaultValue': 0.6006336826387089, 'createdAt': '2020-12-02T13:40:19Z'}, {'metricKey': 'staking_ratio', 'defaultValue': 0.6006336826387089, 'createdAt': '2020-12-02T14:00:00Z'}, {'metricKey': 'staking_ratio', 'defaultValue': 0.6006276993671251, 'createdAt': '2020-12-02T15:40:18Z'}, {'metricKey': 'staking_ratio', 'defaultValue': 0.6006276993671251, 'createdAt': '2020-12-02T16:00:00Z'}, {'metricKey': 'staking_ratio', 'defaultValue': 0.6006214612638348, 'createdAt': '2020-12-02T17:40:19Z'}, {'metricKey': 'staking_ratio', 'defaultValue': 0.6006214612638348, 'createdAt': '2020-12-02T18:00:00Z'}, {'metricKey': 'staking_ratio', 'defaultValue': 0.6006156397234208, 'createdAt': '2020-12-02T19:40:20Z'}, {'metricKey': 'staking_ratio', 'defaultValue': 0.6006156397234208, 'createdAt': '2020-12-02T20:00:00Z'}, {'metricKey': 'staking_ratio', 'defaultValue': 0.6006095881226023, 'createdAt': '2020-12-02T21:40:18Z'}, {'metricKey': 'staking_ratio', 'defaultValue': 0.6006095881226023, 'createdAt': '2020-12-02T22:00:00Z'}, {'metricKey': 'staking_ratio', 'defaultValue': 0.6259115678275597, 'createdAt': '2020-12-02T23:40:19Z'}, {'metricKey': 'staking_ratio', 'defaultValue': 0.6259115678275597, 'createdAt': '2020-12-03T00:00:00Z'}, {'metricKey': 'staking_ratio', 'defaultValue': 0.6259055880634449, 'createdAt': '2020-12-03T01:40:18Z'}, {'metricKey': 'staking_ratio', 'defaultValue': 0.6259055880634449, 'createdAt': '2020-12-03T02:00:00Z'}]}, {'symbol': 'SOL', 'metrics': [{'metricKey': 'staking_ratio', 'defaultValue': 35.13859068056877, 'createdAt': '2021-02-17T09:40:43Z'}, {'metricKey': 'staking_ratio', 'defaultValue': 35.13859068056877, 'createdAt': '2021-02-17T10:00:00Z'}, {'metricKey': 'staking_ratio', 'defaultValue': 35.138591857611615, 'createdAt': '2021-02-17T11:40:42Z'}, {'metricKey': 'staking_ratio', 'defaultValue': 35.138591857611615, 'createdAt': '2021-02-17T12:00:00Z'}, {'metricKey': 'staking_ratio', 'defaultValue': 35.13859329141235, 'createdAt': '2021-02-17T13:40:45Z'}, {'metricKey': 'staking_ratio', 'defaultValue': 35.13859329141235, 'createdAt': '2021-02-17T14:00:00Z'}, {'metricKey': 'staking_ratio', 'defaultValue': 35.13859479365921, 'createdAt': '2021-02-17T15:40:37Z'}, {'metricKey': 'staking_ratio', 'defaultValue': 35.13859479365921, 'createdAt': '2021-02-17T16:00:00Z'}, {'metricKey': 'staking_ratio', 'defaultValue': 35.13859636555174, 'createdAt': '2021-02-17T17:40:35Z'}, {'metricKey': 'staking_ratio', 'defaultValue': 35.13859636555174, 'createdAt': '2021-02-17T18:00:00Z'}, {'metricKey': 'staking_ratio', 'defaultValue': 35.13859797784961, 'createdAt': '2021-02-17T19:40:43Z'}, {'metricKey': 'staking_ratio', 'defaultValue': 35.13859797784961, 'createdAt': '2021-02-17T20:00:00Z'}, {'metricKey': 'staking_ratio', 'defaultValue': 35.13859957389418, 'createdAt': '2021-02-17T21:40:40Z'}, {'metricKey': 'staking_ratio', 'defaultValue': 35.13859957389418, 'createdAt': '2021-02-17T22:00:00Z'}, {'metricKey': 'staking_ratio', 'defaultValue': 35.13860119413175, 'createdAt': '2021-02-17T23:40:36Z'}, {'metricKey': 'staking_ratio', 'defaultValue': 35.13860119413175, 'createdAt': '2021-02-18T00:00:00Z'}, {'metricKey': 'staking_ratio', 'defaultValue': 35.138602841411384, 'createdAt': '2021-02-18T01:40:49Z'}, {'metricKey': 'staking_ratio', 'defaultValue': 35.138602841411384, 'createdAt': '2021-02-18T02:00:00Z'}, {'metricKey': 'staking_ratio', 'defaultValue': 35.138604468731685, 'createdAt': '2021-02-18T03:41:14Z'}, {'metricKey': 'staking_ratio', 'defaultValue': 35.138604468731685, 'createdAt': '2021-02-18T04:00:00Z'}, {'metricKey': 'staking_ratio', 'defaultValue': 35.13860611681379, 'createdAt': '2021-02-18T05:44:53Z'}, {'metricKey': 'staking_ratio', 'defaultValue': 35.13860611681379, 'createdAt': '2021-02-18T06:00:00Z'}, {'metricKey': 'staking_ratio', 'defaultValue': 35.13860777067733, 'createdAt': '2021-02-18T07:40:33Z'}, {'metricKey': 'staking_ratio', 'defaultValue': 35.13860777067733, 'createdAt': '2021-02-18T08:00:00Z'}, {'metricKey': 'staking_ratio', 'defaultValue': 35.13860939823246, 'createdAt': '2021-02-18T09:40:32Z'}, {'metricKey': 'staking_ratio', 'defaultValue': 35.13860939823246, 'createdAt': '2021-02-18T10:00:00Z'}, {'metricKey': 'staking_ratio', 'defaultValue': 35.13861100947998, 'createdAt': '2021-02-18T11:40:31Z'}, {'metricKey': 'staking_ratio', 'defaultValue': 35.13861100947998, 'createdAt': '2021-02-18T12:00:00Z'}, {'metricKey': 'staking_ratio', 'defaultValue': 35.13861100947998, 'createdAt': '2021-02-18T13:40:37Z'}, {'metricKey': 'staking_ratio', 'defaultValue': 35.13861100947998, 'createdAt': '2021-02-18T14:00:00Z'}, {'metricKey': 'staking_ratio', 'defaultValue': 35.13861429221393, 'createdAt': '2021-02-18T15:40:53Z'}, {'metricKey': 'staking_ratio', 'defaultValue': 35.13861429221393, 'createdAt': '2021-02-18T16:00:00Z'}, {'metricKey': 'staking_ratio', 'defaultValue': 35.13861590702421, 'createdAt': '2021-02-18T17:40:49Z'}, {'metricKey': 'staking_ratio', 'defaultValue': 35.13861590702421, 'createdAt': '2021-02-18T18:00:00Z'}, {'metricKey': 'staking_ratio', 'defaultValue': 35.13861754942454, 'createdAt': '2021-02-18T19:40:53Z'}, {'metricKey': 'staking_ratio', 'defaultValue': 35.13861754942454, 'createdAt': '2021-02-18T20:00:00Z'}, {'metricKey': 'staking_ratio', 'defaultValue': 35.13861919451486, 'createdAt': '2021-02-18T21:40:56Z'}, {'metricKey': 'staking_ratio', 'defaultValue': 35.13861919451486, 'createdAt': '2021-02-18T22:00:00Z'}, {'metricKey': 'staking_ratio', 'defaultValue': 35.13862081400142, 'createdAt': '2021-02-18T23:41:56Z'}, {'metricKey': 'staking_ratio', 'defaultValue': 35.13862081400142, 'createdAt': '2021-02-19T00:00:00Z'}, {'metricKey': 'staking_ratio', 'defaultValue': 35.13862243574174, 'createdAt': '2021-02-19T01:41:01Z'}, {'metricKey': 'staking_ratio', 'defaultValue': 35.13862243574174, 'createdAt': '2021-02-19T02:00:00Z'}, {'metricKey': 'staking_ratio', 'defaultValue': 35.13862404368505, 'createdAt': '2021-02-19T03:40:50Z'}, {'metricKey': 'staking_ratio', 'defaultValue': 35.13862404368505, 'createdAt': '2021-02-19T04:00:00Z'}, {'metricKey': 'staking_ratio', 'defaultValue': 35.138625657997345, 'createdAt': '2021-02-19T05:41:56Z'}, {'metricKey': 'staking_ratio', 'defaultValue': 35.138625657997345, 'createdAt': '2021-02-19T06:00:00Z'}, {'metricKey': 'staking_ratio', 'defaultValue': 35.13862727786809, 'createdAt': '2021-02-19T07:40:47Z'}, {'metricKey': 'staking_ratio', 'defaultValue': 35.13862727786809, 'createdAt': '2021-02-19T08:00:00Z'}, {'metricKey': 'staking_ratio', 'defaultValue': 35.13862727786809, 'createdAt': '2021-02-19T09:40:33Z'}, {'metricKey': 'staking_ratio', 'defaultValue': 35.13862727786809, 'createdAt': '2021-02-19T10:00:00Z'}]}]}}\n",
      "Assets DataFrame:\n",
      "  symbol                                            metrics\n",
      "0    ETH  [{'metricKey': 'staking_ratio', 'defaultValue'...\n",
      "1    SOL  [{'metricKey': 'staking_ratio', 'defaultValue'...\n",
      "\n",
      "Metrics DataFrame:\n",
      "       metricKey  defaultValue             createdAt symbol\n",
      "0  staking_ratio      0.593081  2020-12-01T01:40:21Z    ETH\n",
      "1  staking_ratio      0.593081  2020-12-01T02:00:00Z    ETH\n",
      "2  staking_ratio      0.593075  2020-12-01T03:40:18Z    ETH\n",
      "3  staking_ratio      0.593075  2020-12-01T04:00:00Z    ETH\n",
      "4  staking_ratio      0.593069  2020-12-01T05:40:17Z    ETH\n"
     ]
    }
   ],
   "source": [
    "import requests\n",
    "import pandas as pd\n",
    "\n",
    "date = \"2021-01-01\"\n",
    "\n",
    "endpoint = \"https://api.stakingrewards.com/public/query\"\n",
    "query = f\"\"\"\n",
    "query getStakingData($timeStart: Date, $symbol: [String!]) {{\n",
    "  assets(where: {{symbols: $symbol}}, limit: 5){{\n",
    "    symbol\n",
    "    metrics(limit:50, \n",
    "      where:{{\n",
    "        metricKeys: [\"staking_ratio\", \"total_staking_wallets\"], \n",
    "        createdAt_gt: $timeStart, \n",
    "        createdAt_lt: \"2023-09-07\"\n",
    "      }}, \n",
    "      interval: hour,\n",
    "      pickItem: last\n",
    "    ) {{\n",
    "      metricKey\n",
    "      defaultValue\n",
    "      createdAt\n",
    "    }}\n",
    "  }}\n",
    "}}\n",
    "\"\"\"\n",
    "\n",
    "headers = {\n",
    "  \"Content-Type\": \"application/json\",\n",
    "  \"X-API-KEY\": API_KEY,\n",
    "}\n",
    "\n",
    "symbol = [\"SOL\", \"ETH\"]\n",
    "time_start = \"2022-01-01\"\n",
    "\n",
    "data = {\"query\": query,\n",
    "        \"variables\": {\n",
    "            \"time_start\": time_start,\n",
    "            \"symbol\": symbol\n",
    "        }}\n",
    "\n",
    "response = requests.post(endpoint, json=data, headers=headers)\n",
    "\n",
    "print(response)\n",
    "if response.status_code == 200:\n",
    "    result = response.json()\n",
    "    print(result)\n",
    "    # Assume the JSON structure is: { \"data\": { \"assets\": [ { ... }, ... ] } }\n",
    "    assets = result.get(\"data\", {}).get(\"assets\", [])\n",
    "    # Flattening the main asset information\n",
    "    df_assets = pd.json_normalize(assets)\n",
    "    print(\"Assets DataFrame:\")\n",
    "    print(df_assets.head())\n",
    "    \n",
    "    # Flattening the nested \"metrics\" field, including asset-level metadata (symbol)\n",
    "    df_metrics = pd.json_normalize(assets, record_path='metrics', meta=['symbol'])\n",
    "    print(\"\\nMetrics DataFrame:\")\n",
    "    print(df_metrics.head())\n",
    "else:\n",
    "    print(\"Error occurred:\", response.status_code)\n"
   ]
  },
  {
   "cell_type": "code",
   "execution_count": 255,
   "metadata": {},
   "outputs": [
    {
     "data": {
      "application/vnd.microsoft.datawrangler.viewer.v0+json": {
       "columns": [
        {
         "name": "index",
         "rawType": "int64",
         "type": "integer"
        },
        {
         "name": "metricKey",
         "rawType": "object",
         "type": "string"
        },
        {
         "name": "defaultValue",
         "rawType": "float64",
         "type": "float"
        },
        {
         "name": "createdAt",
         "rawType": "object",
         "type": "string"
        },
        {
         "name": "symbol",
         "rawType": "object",
         "type": "string"
        }
       ],
       "conversionMethod": "pd.DataFrame",
       "ref": "04d6801f-aab2-4bbf-98a0-52fea76adbff",
       "rows": [
        [
         "0",
         "staking_ratio",
         "0.5930814090680153",
         "2020-12-01T01:40:21Z",
         "ETH"
        ],
        [
         "1",
         "staking_ratio",
         "0.5930814090680153",
         "2020-12-01T02:00:00Z",
         "ETH"
        ],
        [
         "2",
         "staking_ratio",
         "0.5930754618203001",
         "2020-12-01T03:40:18Z",
         "ETH"
        ],
        [
         "3",
         "staking_ratio",
         "0.5930754618203001",
         "2020-12-01T04:00:00Z",
         "ETH"
        ],
        [
         "4",
         "staking_ratio",
         "0.5930693294371676",
         "2020-12-01T05:40:17Z",
         "ETH"
        ],
        [
         "5",
         "staking_ratio",
         "0.5930693294371676",
         "2020-12-01T06:00:00Z",
         "ETH"
        ],
        [
         "6",
         "staking_ratio",
         "0.5930637261897744",
         "2020-12-01T07:40:17Z",
         "ETH"
        ],
        [
         "7",
         "staking_ratio",
         "0.5930637261897744",
         "2020-12-01T08:00:00Z",
         "ETH"
        ],
        [
         "8",
         "staking_ratio",
         "0.5930581282665011",
         "2020-12-01T09:40:16Z",
         "ETH"
        ],
        [
         "9",
         "staking_ratio",
         "0.5930581282665011",
         "2020-12-01T10:00:00Z",
         "ETH"
        ],
        [
         "10",
         "staking_ratio",
         "0.5930522352977396",
         "2020-12-01T11:40:16Z",
         "ETH"
        ],
        [
         "11",
         "staking_ratio",
         "0.5930522352977396",
         "2020-12-01T12:00:00Z",
         "ETH"
        ],
        [
         "12",
         "staking_ratio",
         "0.5930457325887776",
         "2020-12-01T13:40:18Z",
         "ETH"
        ],
        [
         "13",
         "staking_ratio",
         "0.5930457325887776",
         "2020-12-01T14:00:00Z",
         "ETH"
        ],
        [
         "14",
         "staking_ratio",
         "0.5930399996652399",
         "2020-12-01T15:40:18Z",
         "ETH"
        ],
        [
         "15",
         "staking_ratio",
         "0.5930399996652399",
         "2020-12-01T16:00:00Z",
         "ETH"
        ],
        [
         "16",
         "staking_ratio",
         "0.5930342032603253",
         "2020-12-01T17:40:21Z",
         "ETH"
        ],
        [
         "17",
         "staking_ratio",
         "0.5930342032603253",
         "2020-12-01T18:00:00Z",
         "ETH"
        ],
        [
         "18",
         "staking_ratio",
         "0.593028464689754",
         "2020-12-01T19:40:19Z",
         "ETH"
        ],
        [
         "19",
         "staking_ratio",
         "0.593028464689754",
         "2020-12-01T20:00:00Z",
         "ETH"
        ],
        [
         "20",
         "staking_ratio",
         "0.5930220694630186",
         "2020-12-01T21:40:18Z",
         "ETH"
        ],
        [
         "21",
         "staking_ratio",
         "0.5930220694630186",
         "2020-12-01T22:00:00Z",
         "ETH"
        ],
        [
         "22",
         "staking_ratio",
         "0.6006744342765966",
         "2020-12-01T23:40:18Z",
         "ETH"
        ],
        [
         "23",
         "staking_ratio",
         "0.6006744342765966",
         "2020-12-02T00:00:00Z",
         "ETH"
        ],
        [
         "24",
         "staking_ratio",
         "0.6006686539875336",
         "2020-12-02T01:40:18Z",
         "ETH"
        ],
        [
         "25",
         "staking_ratio",
         "0.6006686539875336",
         "2020-12-02T02:00:00Z",
         "ETH"
        ],
        [
         "26",
         "staking_ratio",
         "0.6006631638068446",
         "2020-12-02T03:40:17Z",
         "ETH"
        ],
        [
         "27",
         "staking_ratio",
         "0.6006631638068446",
         "2020-12-02T04:00:00Z",
         "ETH"
        ],
        [
         "28",
         "staking_ratio",
         "0.6006578210345449",
         "2020-12-02T05:40:17Z",
         "ETH"
        ],
        [
         "29",
         "staking_ratio",
         "0.6006578210345449",
         "2020-12-02T06:00:00Z",
         "ETH"
        ],
        [
         "30",
         "staking_ratio",
         "0.6006519756696262",
         "2020-12-02T07:40:16Z",
         "ETH"
        ],
        [
         "31",
         "staking_ratio",
         "0.6006519756696262",
         "2020-12-02T08:00:00Z",
         "ETH"
        ],
        [
         "32",
         "staking_ratio",
         "0.6006460184555149",
         "2020-12-02T09:40:17Z",
         "ETH"
        ],
        [
         "33",
         "staking_ratio",
         "0.6006460184555149",
         "2020-12-02T10:00:00Z",
         "ETH"
        ],
        [
         "34",
         "staking_ratio",
         "0.6006398717860209",
         "2020-12-02T11:40:20Z",
         "ETH"
        ],
        [
         "35",
         "staking_ratio",
         "0.6006398717860209",
         "2020-12-02T12:00:00Z",
         "ETH"
        ],
        [
         "36",
         "staking_ratio",
         "0.6006336826387089",
         "2020-12-02T13:40:19Z",
         "ETH"
        ],
        [
         "37",
         "staking_ratio",
         "0.6006336826387089",
         "2020-12-02T14:00:00Z",
         "ETH"
        ],
        [
         "38",
         "staking_ratio",
         "0.6006276993671251",
         "2020-12-02T15:40:18Z",
         "ETH"
        ],
        [
         "39",
         "staking_ratio",
         "0.6006276993671251",
         "2020-12-02T16:00:00Z",
         "ETH"
        ],
        [
         "40",
         "staking_ratio",
         "0.6006214612638348",
         "2020-12-02T17:40:19Z",
         "ETH"
        ],
        [
         "41",
         "staking_ratio",
         "0.6006214612638348",
         "2020-12-02T18:00:00Z",
         "ETH"
        ],
        [
         "42",
         "staking_ratio",
         "0.6006156397234208",
         "2020-12-02T19:40:20Z",
         "ETH"
        ],
        [
         "43",
         "staking_ratio",
         "0.6006156397234208",
         "2020-12-02T20:00:00Z",
         "ETH"
        ],
        [
         "44",
         "staking_ratio",
         "0.6006095881226023",
         "2020-12-02T21:40:18Z",
         "ETH"
        ],
        [
         "45",
         "staking_ratio",
         "0.6006095881226023",
         "2020-12-02T22:00:00Z",
         "ETH"
        ],
        [
         "46",
         "staking_ratio",
         "0.6259115678275597",
         "2020-12-02T23:40:19Z",
         "ETH"
        ],
        [
         "47",
         "staking_ratio",
         "0.6259115678275597",
         "2020-12-03T00:00:00Z",
         "ETH"
        ],
        [
         "48",
         "staking_ratio",
         "0.6259055880634449",
         "2020-12-03T01:40:18Z",
         "ETH"
        ],
        [
         "49",
         "staking_ratio",
         "0.6259055880634449",
         "2020-12-03T02:00:00Z",
         "ETH"
        ]
       ],
       "shape": {
        "columns": 4,
        "rows": 100
       }
      },
      "text/html": [
       "<div>\n",
       "<style scoped>\n",
       "    .dataframe tbody tr th:only-of-type {\n",
       "        vertical-align: middle;\n",
       "    }\n",
       "\n",
       "    .dataframe tbody tr th {\n",
       "        vertical-align: top;\n",
       "    }\n",
       "\n",
       "    .dataframe thead th {\n",
       "        text-align: right;\n",
       "    }\n",
       "</style>\n",
       "<table border=\"1\" class=\"dataframe\">\n",
       "  <thead>\n",
       "    <tr style=\"text-align: right;\">\n",
       "      <th></th>\n",
       "      <th>metricKey</th>\n",
       "      <th>defaultValue</th>\n",
       "      <th>createdAt</th>\n",
       "      <th>symbol</th>\n",
       "    </tr>\n",
       "  </thead>\n",
       "  <tbody>\n",
       "    <tr>\n",
       "      <th>0</th>\n",
       "      <td>staking_ratio</td>\n",
       "      <td>0.593081</td>\n",
       "      <td>2020-12-01T01:40:21Z</td>\n",
       "      <td>ETH</td>\n",
       "    </tr>\n",
       "    <tr>\n",
       "      <th>1</th>\n",
       "      <td>staking_ratio</td>\n",
       "      <td>0.593081</td>\n",
       "      <td>2020-12-01T02:00:00Z</td>\n",
       "      <td>ETH</td>\n",
       "    </tr>\n",
       "    <tr>\n",
       "      <th>2</th>\n",
       "      <td>staking_ratio</td>\n",
       "      <td>0.593075</td>\n",
       "      <td>2020-12-01T03:40:18Z</td>\n",
       "      <td>ETH</td>\n",
       "    </tr>\n",
       "    <tr>\n",
       "      <th>3</th>\n",
       "      <td>staking_ratio</td>\n",
       "      <td>0.593075</td>\n",
       "      <td>2020-12-01T04:00:00Z</td>\n",
       "      <td>ETH</td>\n",
       "    </tr>\n",
       "    <tr>\n",
       "      <th>4</th>\n",
       "      <td>staking_ratio</td>\n",
       "      <td>0.593069</td>\n",
       "      <td>2020-12-01T05:40:17Z</td>\n",
       "      <td>ETH</td>\n",
       "    </tr>\n",
       "    <tr>\n",
       "      <th>...</th>\n",
       "      <td>...</td>\n",
       "      <td>...</td>\n",
       "      <td>...</td>\n",
       "      <td>...</td>\n",
       "    </tr>\n",
       "    <tr>\n",
       "      <th>95</th>\n",
       "      <td>staking_ratio</td>\n",
       "      <td>35.138626</td>\n",
       "      <td>2021-02-19T06:00:00Z</td>\n",
       "      <td>SOL</td>\n",
       "    </tr>\n",
       "    <tr>\n",
       "      <th>96</th>\n",
       "      <td>staking_ratio</td>\n",
       "      <td>35.138627</td>\n",
       "      <td>2021-02-19T07:40:47Z</td>\n",
       "      <td>SOL</td>\n",
       "    </tr>\n",
       "    <tr>\n",
       "      <th>97</th>\n",
       "      <td>staking_ratio</td>\n",
       "      <td>35.138627</td>\n",
       "      <td>2021-02-19T08:00:00Z</td>\n",
       "      <td>SOL</td>\n",
       "    </tr>\n",
       "    <tr>\n",
       "      <th>98</th>\n",
       "      <td>staking_ratio</td>\n",
       "      <td>35.138627</td>\n",
       "      <td>2021-02-19T09:40:33Z</td>\n",
       "      <td>SOL</td>\n",
       "    </tr>\n",
       "    <tr>\n",
       "      <th>99</th>\n",
       "      <td>staking_ratio</td>\n",
       "      <td>35.138627</td>\n",
       "      <td>2021-02-19T10:00:00Z</td>\n",
       "      <td>SOL</td>\n",
       "    </tr>\n",
       "  </tbody>\n",
       "</table>\n",
       "<p>100 rows × 4 columns</p>\n",
       "</div>"
      ],
      "text/plain": [
       "        metricKey  defaultValue             createdAt symbol\n",
       "0   staking_ratio      0.593081  2020-12-01T01:40:21Z    ETH\n",
       "1   staking_ratio      0.593081  2020-12-01T02:00:00Z    ETH\n",
       "2   staking_ratio      0.593075  2020-12-01T03:40:18Z    ETH\n",
       "3   staking_ratio      0.593075  2020-12-01T04:00:00Z    ETH\n",
       "4   staking_ratio      0.593069  2020-12-01T05:40:17Z    ETH\n",
       "..            ...           ...                   ...    ...\n",
       "95  staking_ratio     35.138626  2021-02-19T06:00:00Z    SOL\n",
       "96  staking_ratio     35.138627  2021-02-19T07:40:47Z    SOL\n",
       "97  staking_ratio     35.138627  2021-02-19T08:00:00Z    SOL\n",
       "98  staking_ratio     35.138627  2021-02-19T09:40:33Z    SOL\n",
       "99  staking_ratio     35.138627  2021-02-19T10:00:00Z    SOL\n",
       "\n",
       "[100 rows x 4 columns]"
      ]
     },
     "metadata": {},
     "output_type": "display_data"
    }
   ],
   "source": [
    "display(df_metrics)"
   ]
  },
  {
   "cell_type": "code",
   "execution_count": null,
   "metadata": {},
   "outputs": [],
   "source": []
  }
 ],
 "metadata": {
  "kernelspec": {
   "display_name": "Python 3",
   "language": "python",
   "name": "python3"
  },
  "language_info": {
   "codemirror_mode": {
    "name": "ipython",
    "version": 3
   },
   "file_extension": ".py",
   "mimetype": "text/x-python",
   "name": "python",
   "nbconvert_exporter": "python",
   "pygments_lexer": "ipython3",
   "version": "3.11.2"
  }
 },
 "nbformat": 4,
 "nbformat_minor": 2
}
